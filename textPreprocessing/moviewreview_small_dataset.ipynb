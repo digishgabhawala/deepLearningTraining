{
 "cells": [
  {
   "cell_type": "code",
   "execution_count": 1,
   "metadata": {},
   "outputs": [
    {
     "name": "stderr",
     "output_type": "stream",
     "text": [
      "Using TensorFlow backend.\n"
     ]
    }
   ],
   "source": [
    "import numpy as np\n",
    "import keras \n",
    "import tensorflow as tf"
   ]
  },
  {
   "cell_type": "code",
   "execution_count": 2,
   "metadata": {},
   "outputs": [],
   "source": [
    "# Let's try first with following simplest set of data which are dummy movie \n",
    "# review comments and clasification whether its a good movie or not\n",
    "# taken from https://stackabuse.com/python-for-nlp-word-embeddings-for-deep-learning-in-keras/\n",
    "\n",
    "corpus = [\n",
    "    # Positive Reviews\n",
    "\n",
    "    'This is an excellent movie',\n",
    "    'The move was fantastic I like it',\n",
    "    'You should watch it is brilliant',\n",
    "    'Exceptionally good',\n",
    "    'Wonderfully directed and executed I like it',\n",
    "    'Its a fantastic series',\n",
    "    'Never watched such a brillent movie',\n",
    "    'It is a Wonderful movie',\n",
    "\n",
    "    # Negtive Reviews\n",
    "\n",
    "    \"horrible acting\",\n",
    "    'waste of money',\n",
    "    'pathetic picture',\n",
    "    'It was very boring',\n",
    "    'I did not like the movie',\n",
    "    'The movie was horrible',\n",
    "    'I will not recommend',\n",
    "    'The acting is pathetic'\n",
    "]\n"
   ]
  },
  {
   "cell_type": "code",
   "execution_count": 3,
   "metadata": {},
   "outputs": [],
   "source": [
    "sentiments = np.array([1,1,1,1,1,1,1,1,0,0,0,0,0,0,0,0])\n"
   ]
  },
  {
   "cell_type": "code",
   "execution_count": 4,
   "metadata": {},
   "outputs": [],
   "source": [
    "word_tokenizer = keras.preprocessing.text.Tokenizer()\n",
    "word_tokenizer.fit_on_texts(corpus)"
   ]
  },
  {
   "cell_type": "code",
   "execution_count": 5,
   "metadata": {},
   "outputs": [],
   "source": [
    "vocab_length = len(word_tokenizer.word_index) + 1"
   ]
  },
  {
   "cell_type": "code",
   "execution_count": 6,
   "metadata": {},
   "outputs": [
    {
     "data": {
      "text/plain": [
       "44"
      ]
     },
     "execution_count": 6,
     "metadata": {},
     "output_type": "execute_result"
    }
   ],
   "source": [
    "vocab_length"
   ]
  },
  {
   "cell_type": "code",
   "execution_count": 7,
   "metadata": {},
   "outputs": [],
   "source": [
    "embedded_sentences = word_tokenizer.texts_to_sequences(corpus)"
   ]
  },
  {
   "cell_type": "code",
   "execution_count": 8,
   "metadata": {},
   "outputs": [
    {
     "data": {
      "text/plain": [
       "[[14, 3, 15, 16, 1],\n",
       " [4, 17, 6, 9, 5, 7, 2],\n",
       " [18, 19, 20, 2, 3, 21],\n",
       " [22, 23],\n",
       " [24, 25, 26, 27, 5, 7, 2],\n",
       " [28, 8, 9, 29],\n",
       " [30, 31, 32, 8, 33, 1],\n",
       " [2, 3, 8, 34, 1],\n",
       " [10, 11],\n",
       " [35, 36, 37],\n",
       " [12, 38],\n",
       " [2, 6, 39, 40],\n",
       " [5, 41, 13, 7, 4, 1],\n",
       " [4, 1, 6, 10],\n",
       " [5, 42, 13, 43],\n",
       " [4, 11, 3, 12]]"
      ]
     },
     "execution_count": 8,
     "metadata": {},
     "output_type": "execute_result"
    }
   ],
   "source": [
    "embedded_sentences"
   ]
  },
  {
   "cell_type": "code",
   "execution_count": 9,
   "metadata": {},
   "outputs": [
    {
     "data": {
      "text/plain": [
       "5"
      ]
     },
     "execution_count": 9,
     "metadata": {},
     "output_type": "execute_result"
    }
   ],
   "source": [
    "len(embedded_sentences[0])\n"
   ]
  },
  {
   "cell_type": "code",
   "execution_count": 10,
   "metadata": {},
   "outputs": [
    {
     "name": "stdout",
     "output_type": "stream",
     "text": [
      "[4, 17, 6, 9, 5, 7, 2] 7\n"
     ]
    }
   ],
   "source": [
    "# Now let's find out what's max length sentence\n",
    "maxiumum = 0\n",
    "word_count = lambda sentence : len(sentence) \n",
    "\n",
    "longest_seq = max(embedded_sentences,key=word_count) \n",
    "longest_seq_length = len(longest_seq)\n",
    "print(longest_seq,longest_seq_length)"
   ]
  },
  {
   "cell_type": "code",
   "execution_count": 11,
   "metadata": {},
   "outputs": [
    {
     "name": "stdout",
     "output_type": "stream",
     "text": [
      "[[14  3 15 16  1  0  0]\n",
      " [ 4 17  6  9  5  7  2]\n",
      " [18 19 20  2  3 21  0]\n",
      " [22 23  0  0  0  0  0]\n",
      " [24 25 26 27  5  7  2]\n",
      " [28  8  9 29  0  0  0]\n",
      " [30 31 32  8 33  1  0]\n",
      " [ 2  3  8 34  1  0  0]\n",
      " [10 11  0  0  0  0  0]\n",
      " [35 36 37  0  0  0  0]\n",
      " [12 38  0  0  0  0  0]\n",
      " [ 2  6 39 40  0  0  0]\n",
      " [ 5 41 13  7  4  1  0]\n",
      " [ 4  1  6 10  0  0  0]\n",
      " [ 5 42 13 43  0  0  0]\n",
      " [ 4 11  3 12  0  0  0]]\n"
     ]
    }
   ],
   "source": [
    "pad_sequences = keras.preprocessing.sequence.pad_sequences\n",
    "padded_seq = pad_sequences(embedded_sentences,longest_seq_length,padding=\"post\")\n",
    "print(padded_seq)"
   ]
  },
  {
   "cell_type": "code",
   "execution_count": 12,
   "metadata": {},
   "outputs": [],
   "source": [
    "#Now X data is ready to use ... let's one hot encode Y data\n",
    "#y = keras.utils.to_categorical(sentiments)\n",
    "#print(y)"
   ]
  },
  {
   "cell_type": "code",
   "execution_count": 13,
   "metadata": {},
   "outputs": [
    {
     "name": "stdout",
     "output_type": "stream",
     "text": [
      "WARNING:tensorflow:From /Users/digishgabhawala/Library/Python/3.5/lib/python/site-packages/tensorflow/python/ops/resource_variable_ops.py:435: colocate_with (from tensorflow.python.framework.ops) is deprecated and will be removed in a future version.\n",
      "Instructions for updating:\n",
      "Colocations handled automatically by placer.\n",
      "Model: \"sequential_1\"\n",
      "_________________________________________________________________\n",
      "Layer (type)                 Output Shape              Param #   \n",
      "=================================================================\n",
      "embedding_1 (Embedding)      (None, 7, 20)             880       \n",
      "_________________________________________________________________\n",
      "flatten_1 (Flatten)          (None, 140)               0         \n",
      "_________________________________________________________________\n",
      "dense_1 (Dense)              (None, 1)                 141       \n",
      "=================================================================\n",
      "Total params: 1,021\n",
      "Trainable params: 1,021\n",
      "Non-trainable params: 0\n",
      "_________________________________________________________________\n"
     ]
    }
   ],
   "source": [
    "model = keras.models.Sequential()\n",
    "model.add(keras.layers.Embedding(vocab_length,20,input_length=longest_seq_length))\n",
    "model.add(keras.layers.Flatten())\n",
    "model.add(keras.layers.Dense(1,activation='sigmoid'))\n",
    "model.summary()\n"
   ]
  },
  {
   "cell_type": "code",
   "execution_count": 14,
   "metadata": {},
   "outputs": [],
   "source": [
    "model.compile(optimizer='adam',loss='binary_crossentropy',metrics=['accuracy'])\n"
   ]
  },
  {
   "cell_type": "code",
   "execution_count": 15,
   "metadata": {},
   "outputs": [
    {
     "name": "stdout",
     "output_type": "stream",
     "text": [
      "WARNING:tensorflow:From /Users/digishgabhawala/Library/Python/3.5/lib/python/site-packages/tensorflow/python/ops/math_ops.py:3066: to_int32 (from tensorflow.python.ops.math_ops) is deprecated and will be removed in a future version.\n",
      "Instructions for updating:\n",
      "Use tf.cast instead.\n",
      "Epoch 1/100\n",
      "16/16 [==============================] - 0s 9ms/step - loss: 0.7037 - accuracy: 0.3125\n",
      "Epoch 2/100\n",
      "16/16 [==============================] - 0s 95us/step - loss: 0.6996 - accuracy: 0.4375\n",
      "Epoch 3/100\n",
      "16/16 [==============================] - 0s 87us/step - loss: 0.6955 - accuracy: 0.4375\n",
      "Epoch 4/100\n",
      "16/16 [==============================] - 0s 100us/step - loss: 0.6915 - accuracy: 0.5625\n",
      "Epoch 5/100\n",
      "16/16 [==============================] - 0s 101us/step - loss: 0.6875 - accuracy: 0.6250\n",
      "Epoch 6/100\n",
      "16/16 [==============================] - 0s 121us/step - loss: 0.6835 - accuracy: 0.6250\n",
      "Epoch 7/100\n",
      "16/16 [==============================] - 0s 87us/step - loss: 0.6795 - accuracy: 0.6875\n",
      "Epoch 8/100\n",
      "16/16 [==============================] - 0s 77us/step - loss: 0.6756 - accuracy: 0.7500\n",
      "Epoch 9/100\n",
      "16/16 [==============================] - 0s 96us/step - loss: 0.6716 - accuracy: 0.9375\n",
      "Epoch 10/100\n",
      "16/16 [==============================] - 0s 99us/step - loss: 0.6677 - accuracy: 1.0000\n",
      "Epoch 11/100\n",
      "16/16 [==============================] - 0s 89us/step - loss: 0.6637 - accuracy: 1.0000\n",
      "Epoch 12/100\n",
      "16/16 [==============================] - 0s 106us/step - loss: 0.6598 - accuracy: 1.0000\n",
      "Epoch 13/100\n",
      "16/16 [==============================] - 0s 113us/step - loss: 0.6558 - accuracy: 1.0000\n",
      "Epoch 14/100\n",
      "16/16 [==============================] - 0s 144us/step - loss: 0.6518 - accuracy: 1.0000\n",
      "Epoch 15/100\n",
      "16/16 [==============================] - 0s 98us/step - loss: 0.6478 - accuracy: 1.0000\n",
      "Epoch 16/100\n",
      "16/16 [==============================] - 0s 91us/step - loss: 0.6438 - accuracy: 1.0000\n",
      "Epoch 17/100\n",
      "16/16 [==============================] - 0s 112us/step - loss: 0.6397 - accuracy: 1.0000\n",
      "Epoch 18/100\n",
      "16/16 [==============================] - 0s 104us/step - loss: 0.6356 - accuracy: 1.0000\n",
      "Epoch 19/100\n",
      "16/16 [==============================] - 0s 83us/step - loss: 0.6315 - accuracy: 1.0000\n",
      "Epoch 20/100\n",
      "16/16 [==============================] - 0s 93us/step - loss: 0.6273 - accuracy: 1.0000\n",
      "Epoch 21/100\n",
      "16/16 [==============================] - 0s 117us/step - loss: 0.6231 - accuracy: 1.0000\n",
      "Epoch 22/100\n",
      "16/16 [==============================] - 0s 100us/step - loss: 0.6188 - accuracy: 1.0000\n",
      "Epoch 23/100\n",
      "16/16 [==============================] - 0s 113us/step - loss: 0.6145 - accuracy: 1.0000\n",
      "Epoch 24/100\n",
      "16/16 [==============================] - 0s 90us/step - loss: 0.6102 - accuracy: 1.0000\n",
      "Epoch 25/100\n",
      "16/16 [==============================] - 0s 93us/step - loss: 0.6058 - accuracy: 1.0000\n",
      "Epoch 26/100\n",
      "16/16 [==============================] - 0s 132us/step - loss: 0.6014 - accuracy: 1.0000\n",
      "Epoch 27/100\n",
      "16/16 [==============================] - 0s 131us/step - loss: 0.5969 - accuracy: 1.0000\n",
      "Epoch 28/100\n",
      "16/16 [==============================] - 0s 105us/step - loss: 0.5924 - accuracy: 1.0000\n",
      "Epoch 29/100\n",
      "16/16 [==============================] - 0s 91us/step - loss: 0.5878 - accuracy: 1.0000\n",
      "Epoch 30/100\n",
      "16/16 [==============================] - 0s 132us/step - loss: 0.5831 - accuracy: 1.0000\n",
      "Epoch 31/100\n",
      "16/16 [==============================] - 0s 169us/step - loss: 0.5785 - accuracy: 1.0000\n",
      "Epoch 32/100\n",
      "16/16 [==============================] - 0s 114us/step - loss: 0.5737 - accuracy: 1.0000\n",
      "Epoch 33/100\n",
      "16/16 [==============================] - 0s 88us/step - loss: 0.5689 - accuracy: 1.0000\n",
      "Epoch 34/100\n",
      "16/16 [==============================] - 0s 86us/step - loss: 0.5641 - accuracy: 1.0000\n",
      "Epoch 35/100\n",
      "16/16 [==============================] - 0s 88us/step - loss: 0.5592 - accuracy: 1.0000\n",
      "Epoch 36/100\n",
      "16/16 [==============================] - 0s 107us/step - loss: 0.5543 - accuracy: 1.0000\n",
      "Epoch 37/100\n",
      "16/16 [==============================] - 0s 85us/step - loss: 0.5493 - accuracy: 1.0000\n",
      "Epoch 38/100\n",
      "16/16 [==============================] - 0s 83us/step - loss: 0.5443 - accuracy: 1.0000\n",
      "Epoch 39/100\n",
      "16/16 [==============================] - 0s 146us/step - loss: 0.5392 - accuracy: 1.0000\n",
      "Epoch 40/100\n",
      "16/16 [==============================] - 0s 87us/step - loss: 0.5341 - accuracy: 1.0000\n",
      "Epoch 41/100\n",
      "16/16 [==============================] - 0s 83us/step - loss: 0.5289 - accuracy: 1.0000\n",
      "Epoch 42/100\n",
      "16/16 [==============================] - 0s 84us/step - loss: 0.5237 - accuracy: 1.0000\n",
      "Epoch 43/100\n",
      "16/16 [==============================] - 0s 108us/step - loss: 0.5185 - accuracy: 1.0000\n",
      "Epoch 44/100\n",
      "16/16 [==============================] - 0s 126us/step - loss: 0.5132 - accuracy: 1.0000\n",
      "Epoch 45/100\n",
      "16/16 [==============================] - 0s 100us/step - loss: 0.5079 - accuracy: 1.0000\n",
      "Epoch 46/100\n",
      "16/16 [==============================] - 0s 85us/step - loss: 0.5026 - accuracy: 1.0000\n",
      "Epoch 47/100\n",
      "16/16 [==============================] - 0s 96us/step - loss: 0.4972 - accuracy: 1.0000\n",
      "Epoch 48/100\n",
      "16/16 [==============================] - 0s 126us/step - loss: 0.4918 - accuracy: 1.0000\n",
      "Epoch 49/100\n",
      "16/16 [==============================] - 0s 113us/step - loss: 0.4864 - accuracy: 1.0000\n",
      "Epoch 50/100\n",
      "16/16 [==============================] - 0s 84us/step - loss: 0.4809 - accuracy: 1.0000\n",
      "Epoch 51/100\n",
      "16/16 [==============================] - 0s 79us/step - loss: 0.4755 - accuracy: 1.0000\n",
      "Epoch 52/100\n",
      "16/16 [==============================] - 0s 102us/step - loss: 0.4700 - accuracy: 1.0000\n",
      "Epoch 53/100\n",
      "16/16 [==============================] - 0s 147us/step - loss: 0.4644 - accuracy: 1.0000\n",
      "Epoch 54/100\n",
      "16/16 [==============================] - 0s 108us/step - loss: 0.4589 - accuracy: 1.0000\n",
      "Epoch 55/100\n",
      "16/16 [==============================] - 0s 90us/step - loss: 0.4534 - accuracy: 1.0000\n",
      "Epoch 56/100\n",
      "16/16 [==============================] - 0s 85us/step - loss: 0.4479 - accuracy: 1.0000\n",
      "Epoch 57/100\n",
      "16/16 [==============================] - 0s 150us/step - loss: 0.4423 - accuracy: 1.0000\n",
      "Epoch 58/100\n",
      "16/16 [==============================] - 0s 141us/step - loss: 0.4368 - accuracy: 1.0000\n",
      "Epoch 59/100\n",
      "16/16 [==============================] - 0s 101us/step - loss: 0.4312 - accuracy: 1.0000\n",
      "Epoch 60/100\n",
      "16/16 [==============================] - 0s 82us/step - loss: 0.4257 - accuracy: 1.0000\n",
      "Epoch 61/100\n",
      "16/16 [==============================] - 0s 88us/step - loss: 0.4201 - accuracy: 1.0000\n",
      "Epoch 62/100\n",
      "16/16 [==============================] - 0s 107us/step - loss: 0.4146 - accuracy: 1.0000\n",
      "Epoch 63/100\n",
      "16/16 [==============================] - 0s 111us/step - loss: 0.4090 - accuracy: 1.0000\n",
      "Epoch 64/100\n",
      "16/16 [==============================] - 0s 134us/step - loss: 0.4035 - accuracy: 1.0000\n",
      "Epoch 65/100\n",
      "16/16 [==============================] - 0s 103us/step - loss: 0.3980 - accuracy: 1.0000\n",
      "Epoch 66/100\n",
      "16/16 [==============================] - 0s 106us/step - loss: 0.3926 - accuracy: 1.0000\n",
      "Epoch 67/100\n",
      "16/16 [==============================] - 0s 161us/step - loss: 0.3871 - accuracy: 1.0000\n",
      "Epoch 68/100\n",
      "16/16 [==============================] - 0s 128us/step - loss: 0.3817 - accuracy: 1.0000\n",
      "Epoch 69/100\n",
      "16/16 [==============================] - 0s 103us/step - loss: 0.3763 - accuracy: 1.0000\n",
      "Epoch 70/100\n",
      "16/16 [==============================] - 0s 115us/step - loss: 0.3709 - accuracy: 1.0000\n",
      "Epoch 71/100\n",
      "16/16 [==============================] - 0s 123us/step - loss: 0.3656 - accuracy: 1.0000\n",
      "Epoch 72/100\n",
      "16/16 [==============================] - 0s 133us/step - loss: 0.3602 - accuracy: 1.0000\n",
      "Epoch 73/100\n",
      "16/16 [==============================] - 0s 88us/step - loss: 0.3550 - accuracy: 1.0000\n",
      "Epoch 74/100\n",
      "16/16 [==============================] - 0s 107us/step - loss: 0.3497 - accuracy: 1.0000\n",
      "Epoch 75/100\n",
      "16/16 [==============================] - 0s 114us/step - loss: 0.3445 - accuracy: 1.0000\n",
      "Epoch 76/100\n",
      "16/16 [==============================] - 0s 96us/step - loss: 0.3394 - accuracy: 1.0000\n",
      "Epoch 77/100\n",
      "16/16 [==============================] - 0s 92us/step - loss: 0.3343 - accuracy: 1.0000\n",
      "Epoch 78/100\n",
      "16/16 [==============================] - 0s 83us/step - loss: 0.3292 - accuracy: 1.0000\n",
      "Epoch 79/100\n",
      "16/16 [==============================] - 0s 92us/step - loss: 0.3242 - accuracy: 1.0000\n"
     ]
    },
    {
     "name": "stdout",
     "output_type": "stream",
     "text": [
      "Epoch 80/100\n",
      "16/16 [==============================] - 0s 97us/step - loss: 0.3192 - accuracy: 1.0000\n",
      "Epoch 81/100\n",
      "16/16 [==============================] - 0s 103us/step - loss: 0.3143 - accuracy: 1.0000\n",
      "Epoch 82/100\n",
      "16/16 [==============================] - 0s 83us/step - loss: 0.3094 - accuracy: 1.0000\n",
      "Epoch 83/100\n",
      "16/16 [==============================] - 0s 80us/step - loss: 0.3046 - accuracy: 1.0000\n",
      "Epoch 84/100\n",
      "16/16 [==============================] - 0s 126us/step - loss: 0.2998 - accuracy: 1.0000\n",
      "Epoch 85/100\n",
      "16/16 [==============================] - 0s 85us/step - loss: 0.2951 - accuracy: 1.0000\n",
      "Epoch 86/100\n",
      "16/16 [==============================] - 0s 103us/step - loss: 0.2904 - accuracy: 1.0000\n",
      "Epoch 87/100\n",
      "16/16 [==============================] - 0s 90us/step - loss: 0.2858 - accuracy: 1.0000\n",
      "Epoch 88/100\n",
      "16/16 [==============================] - 0s 92us/step - loss: 0.2812 - accuracy: 1.0000\n",
      "Epoch 89/100\n",
      "16/16 [==============================] - 0s 89us/step - loss: 0.2768 - accuracy: 1.0000\n",
      "Epoch 90/100\n",
      "16/16 [==============================] - 0s 90us/step - loss: 0.2723 - accuracy: 1.0000\n",
      "Epoch 91/100\n",
      "16/16 [==============================] - 0s 88us/step - loss: 0.2680 - accuracy: 1.0000\n",
      "Epoch 92/100\n",
      "16/16 [==============================] - 0s 87us/step - loss: 0.2636 - accuracy: 1.0000\n",
      "Epoch 93/100\n",
      "16/16 [==============================] - 0s 88us/step - loss: 0.2594 - accuracy: 1.0000\n",
      "Epoch 94/100\n",
      "16/16 [==============================] - 0s 79us/step - loss: 0.2552 - accuracy: 1.0000\n",
      "Epoch 95/100\n",
      "16/16 [==============================] - 0s 102us/step - loss: 0.2511 - accuracy: 1.0000\n",
      "Epoch 96/100\n",
      "16/16 [==============================] - 0s 104us/step - loss: 0.2470 - accuracy: 1.0000\n",
      "Epoch 97/100\n",
      "16/16 [==============================] - 0s 90us/step - loss: 0.2430 - accuracy: 1.0000\n",
      "Epoch 98/100\n",
      "16/16 [==============================] - 0s 80us/step - loss: 0.2390 - accuracy: 1.0000\n",
      "Epoch 99/100\n",
      "16/16 [==============================] - 0s 107us/step - loss: 0.2351 - accuracy: 1.0000\n",
      "Epoch 100/100\n",
      "16/16 [==============================] - 0s 86us/step - loss: 0.2313 - accuracy: 1.0000\n"
     ]
    },
    {
     "data": {
      "text/plain": [
       "<keras.callbacks.callbacks.History at 0x13be543c8>"
      ]
     },
     "execution_count": 15,
     "metadata": {},
     "output_type": "execute_result"
    }
   ],
   "source": [
    "model.fit(padded_seq,sentiments,epochs=100,verbose=1)"
   ]
  },
  {
   "cell_type": "code",
   "execution_count": 16,
   "metadata": {},
   "outputs": [
    {
     "name": "stdout",
     "output_type": "stream",
     "text": [
      "[[2, 6, 39, 40], [16, 1], [14, 3, 15, 16, 1]]\n",
      "[[0.16297159]\n",
      " [0.36877173]\n",
      " [0.8352111 ]]\n"
     ]
    }
   ],
   "source": [
    "#prediction \n",
    "instance = [\"It was very boring\",'excellent movie','This is an excellent movie']\n",
    "instance = word_tokenizer.texts_to_sequences(instance)\n",
    "print(instance)\n",
    "instance = pad_sequences(instance, padding='post', maxlen=longest_seq_length)\n",
    "print(model.predict(instance))"
   ]
  },
  {
   "cell_type": "code",
   "execution_count": 17,
   "metadata": {},
   "outputs": [],
   "source": [
    "### Now Let's extend above example and test with actual movie sentiment dataset\n",
    "dataset = keras.datasets.imdb.load_data()"
   ]
  }
 ],
 "metadata": {
  "kernelspec": {
   "display_name": "Python 3",
   "language": "python",
   "name": "python3"
  },
  "language_info": {
   "codemirror_mode": {
    "name": "ipython",
    "version": 3
   },
   "file_extension": ".py",
   "mimetype": "text/x-python",
   "name": "python",
   "nbconvert_exporter": "python",
   "pygments_lexer": "ipython3",
   "version": "3.5.2"
  }
 },
 "nbformat": 4,
 "nbformat_minor": 2
}
